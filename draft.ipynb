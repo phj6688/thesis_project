{
 "cells": [
  {
   "cell_type": "code",
   "execution_count": 2,
   "metadata": {},
   "outputs": [
    {
     "name": "stdout",
     "output_type": "stream",
     "text": [
      "2195884\n"
     ]
    }
   ],
   "source": [
    "import numpy as np\n",
    "def load_glove_embeddings(path):\n",
    "    word2vec_dict = {}            \n",
    "    with open(path, 'r', encoding='utf-8') as file:\n",
    "        for line in file:\n",
    "            try:\n",
    "                values = line.split()\n",
    "                word = values[0]\n",
    "                vector = np.asarray(values[1:], dtype='float32')\n",
    "                word2vec_dict[word] = vector\n",
    "            except ValueError:                \n",
    "                continue    \n",
    "    return word2vec_dict\n",
    "\n",
    "path = \"glove.840B.300d.txt\"\n",
    "word2vec = load_glove_embeddings(path)\n",
    "print(len(word2vec))\n",
    "\n",
    "\n",
    "import pickle\n",
    "\n",
    "with open('w2v.pkl', 'wb') as f:\n",
    "    pickle.dump(word2vec, f)"
   ]
  },
  {
   "cell_type": "code",
   "execution_count": null,
   "metadata": {},
   "outputs": [],
   "source": []
  }
 ],
 "metadata": {
  "kernelspec": {
   "display_name": "train",
   "language": "python",
   "name": "train"
  },
  "language_info": {
   "codemirror_mode": {
    "name": "ipython",
    "version": 3
   },
   "file_extension": ".py",
   "mimetype": "text/x-python",
   "name": "python",
   "nbconvert_exporter": "python",
   "pygments_lexer": "ipython3",
   "version": "3.7.12"
  },
  "orig_nbformat": 4
 },
 "nbformat": 4,
 "nbformat_minor": 2
}
