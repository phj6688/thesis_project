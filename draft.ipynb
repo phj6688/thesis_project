{
 "cells": [
  {
   "cell_type": "code",
   "execution_count": 2,
   "metadata": {},
   "outputs": [],
   "source": [
    "import pandas as pd"
   ]
  },
  {
   "cell_type": "code",
   "execution_count": 3,
   "metadata": {},
   "outputs": [],
   "source": [
    "df = pd.read_csv('./data/agnews/train.csv')"
   ]
  },
  {
   "cell_type": "code",
   "execution_count": 4,
   "metadata": {},
   "outputs": [
    {
     "data": {
      "text/html": [
       "<div>\n",
       "<style scoped>\n",
       "    .dataframe tbody tr th:only-of-type {\n",
       "        vertical-align: middle;\n",
       "    }\n",
       "\n",
       "    .dataframe tbody tr th {\n",
       "        vertical-align: top;\n",
       "    }\n",
       "\n",
       "    .dataframe thead th {\n",
       "        text-align: right;\n",
       "    }\n",
       "</style>\n",
       "<table border=\"1\" class=\"dataframe\">\n",
       "  <thead>\n",
       "    <tr style=\"text-align: right;\">\n",
       "      <th></th>\n",
       "      <th>Class Index</th>\n",
       "      <th>Title</th>\n",
       "      <th>Description</th>\n",
       "    </tr>\n",
       "  </thead>\n",
       "  <tbody>\n",
       "    <tr>\n",
       "      <th>0</th>\n",
       "      <td>3</td>\n",
       "      <td>Wall St. Bears Claw Back Into the Black (Reuters)</td>\n",
       "      <td>Reuters - Short-sellers, Wall Street's dwindli...</td>\n",
       "    </tr>\n",
       "    <tr>\n",
       "      <th>1</th>\n",
       "      <td>3</td>\n",
       "      <td>Carlyle Looks Toward Commercial Aerospace (Reu...</td>\n",
       "      <td>Reuters - Private investment firm Carlyle Grou...</td>\n",
       "    </tr>\n",
       "    <tr>\n",
       "      <th>2</th>\n",
       "      <td>3</td>\n",
       "      <td>Oil and Economy Cloud Stocks' Outlook (Reuters)</td>\n",
       "      <td>Reuters - Soaring crude prices plus worries\\ab...</td>\n",
       "    </tr>\n",
       "    <tr>\n",
       "      <th>3</th>\n",
       "      <td>3</td>\n",
       "      <td>Iraq Halts Oil Exports from Main Southern Pipe...</td>\n",
       "      <td>Reuters - Authorities have halted oil export\\f...</td>\n",
       "    </tr>\n",
       "    <tr>\n",
       "      <th>4</th>\n",
       "      <td>3</td>\n",
       "      <td>Oil prices soar to all-time record, posing new...</td>\n",
       "      <td>AFP - Tearaway world oil prices, toppling reco...</td>\n",
       "    </tr>\n",
       "    <tr>\n",
       "      <th>...</th>\n",
       "      <td>...</td>\n",
       "      <td>...</td>\n",
       "      <td>...</td>\n",
       "    </tr>\n",
       "    <tr>\n",
       "      <th>119995</th>\n",
       "      <td>1</td>\n",
       "      <td>Pakistan's Musharraf Says Won't Quit as Army C...</td>\n",
       "      <td>KARACHI (Reuters) - Pakistani President Perve...</td>\n",
       "    </tr>\n",
       "    <tr>\n",
       "      <th>119996</th>\n",
       "      <td>2</td>\n",
       "      <td>Renteria signing a top-shelf deal</td>\n",
       "      <td>Red Sox general manager Theo Epstein acknowled...</td>\n",
       "    </tr>\n",
       "    <tr>\n",
       "      <th>119997</th>\n",
       "      <td>2</td>\n",
       "      <td>Saban not going to Dolphins yet</td>\n",
       "      <td>The Miami Dolphins will put their courtship of...</td>\n",
       "    </tr>\n",
       "    <tr>\n",
       "      <th>119998</th>\n",
       "      <td>2</td>\n",
       "      <td>Today's NFL games</td>\n",
       "      <td>PITTSBURGH at NY GIANTS Time: 1:30 p.m. Line: ...</td>\n",
       "    </tr>\n",
       "    <tr>\n",
       "      <th>119999</th>\n",
       "      <td>2</td>\n",
       "      <td>Nets get Carter from Raptors</td>\n",
       "      <td>INDIANAPOLIS -- All-Star Vince Carter was trad...</td>\n",
       "    </tr>\n",
       "  </tbody>\n",
       "</table>\n",
       "<p>120000 rows × 3 columns</p>\n",
       "</div>"
      ],
      "text/plain": [
       "        Class Index                                              Title  \\\n",
       "0                 3  Wall St. Bears Claw Back Into the Black (Reuters)   \n",
       "1                 3  Carlyle Looks Toward Commercial Aerospace (Reu...   \n",
       "2                 3    Oil and Economy Cloud Stocks' Outlook (Reuters)   \n",
       "3                 3  Iraq Halts Oil Exports from Main Southern Pipe...   \n",
       "4                 3  Oil prices soar to all-time record, posing new...   \n",
       "...             ...                                                ...   \n",
       "119995            1  Pakistan's Musharraf Says Won't Quit as Army C...   \n",
       "119996            2                  Renteria signing a top-shelf deal   \n",
       "119997            2                    Saban not going to Dolphins yet   \n",
       "119998            2                                  Today's NFL games   \n",
       "119999            2                       Nets get Carter from Raptors   \n",
       "\n",
       "                                              Description  \n",
       "0       Reuters - Short-sellers, Wall Street's dwindli...  \n",
       "1       Reuters - Private investment firm Carlyle Grou...  \n",
       "2       Reuters - Soaring crude prices plus worries\\ab...  \n",
       "3       Reuters - Authorities have halted oil export\\f...  \n",
       "4       AFP - Tearaway world oil prices, toppling reco...  \n",
       "...                                                   ...  \n",
       "119995   KARACHI (Reuters) - Pakistani President Perve...  \n",
       "119996  Red Sox general manager Theo Epstein acknowled...  \n",
       "119997  The Miami Dolphins will put their courtship of...  \n",
       "119998  PITTSBURGH at NY GIANTS Time: 1:30 p.m. Line: ...  \n",
       "119999  INDIANAPOLIS -- All-Star Vince Carter was trad...  \n",
       "\n",
       "[120000 rows x 3 columns]"
      ]
     },
     "execution_count": 4,
     "metadata": {},
     "output_type": "execute_result"
    }
   ],
   "source": [
    "df"
   ]
  },
  {
   "cell_type": "code",
   "execution_count": 7,
   "metadata": {},
   "outputs": [
    {
     "name": "stdout",
     "output_type": "stream",
     "text": [
      "Title:  Wall St. Bears Claw Back Into the Black (Reuters)\n",
      "Description:  Reuters - Short-sellers, Wall Street's dwindling\\band of ultra-cynics, are seeing green again.\n",
      "Number of tokens:  12\n",
      "Label:  3\n",
      "===========================================\n",
      "Title:  Carlyle Looks Toward Commercial Aerospace (Reuters)\n",
      "Description:  Reuters - Private investment firm Carlyle Group,\\which has a reputation for making well-timed and occasionally\\controversial plays in the defense industry, has quietly placed\\its bets on another part of the market.\n",
      "Number of tokens:  30\n",
      "Label:  3\n",
      "===========================================\n",
      "Title:  Oil and Economy Cloud Stocks' Outlook (Reuters)\n",
      "Description:  Reuters - Soaring crude prices plus worries\\about the economy and the outlook for earnings are expected to\\hang over the stock market next week during the depth of the\\summer doldrums.\n",
      "Number of tokens:  29\n",
      "Label:  3\n",
      "===========================================\n"
     ]
    }
   ],
   "source": [
    "# show the first 10 titles and descriptions in the dataset full text\n",
    "for i in range(3):\n",
    "    title = df['Title'][i]\n",
    "    description = df['Description'][i]\n",
    "    label = df['Class Index'][i]\n",
    "    num_tokens = description.count(' ') + 1\n",
    "    print('Title: ', title)\n",
    "    print('Description: ', description)\n",
    "    print('Number of tokens: ', num_tokens)\n",
    "    print('Label: ', label)\n",
    "\n",
    "    print('===========================================')"
   ]
  },
  {
   "cell_type": "code",
   "execution_count": 8,
   "metadata": {},
   "outputs": [],
   "source": [
    "tokens = []\n",
    "for i in range(len(df)):    \n",
    "    description = df['Description'][i]    \n",
    "    num_tokens = description.count(' ') + 1\n",
    "    tokens.append(num_tokens)\n",
    "df['tokens'] = tokens"
   ]
  },
  {
   "cell_type": "code",
   "execution_count": 10,
   "metadata": {},
   "outputs": [
    {
     "data": {
      "text/html": [
       "<div>\n",
       "<style scoped>\n",
       "    .dataframe tbody tr th:only-of-type {\n",
       "        vertical-align: middle;\n",
       "    }\n",
       "\n",
       "    .dataframe tbody tr th {\n",
       "        vertical-align: top;\n",
       "    }\n",
       "\n",
       "    .dataframe thead th {\n",
       "        text-align: right;\n",
       "    }\n",
       "</style>\n",
       "<table border=\"1\" class=\"dataframe\">\n",
       "  <thead>\n",
       "    <tr style=\"text-align: right;\">\n",
       "      <th></th>\n",
       "      <th>Class Index</th>\n",
       "      <th>tokens</th>\n",
       "    </tr>\n",
       "  </thead>\n",
       "  <tbody>\n",
       "    <tr>\n",
       "      <th>count</th>\n",
       "      <td>120000.000000</td>\n",
       "      <td>120000.000000</td>\n",
       "    </tr>\n",
       "    <tr>\n",
       "      <th>mean</th>\n",
       "      <td>2.500000</td>\n",
       "      <td>31.600675</td>\n",
       "    </tr>\n",
       "    <tr>\n",
       "      <th>std</th>\n",
       "      <td>1.118039</td>\n",
       "      <td>10.200845</td>\n",
       "    </tr>\n",
       "    <tr>\n",
       "      <th>min</th>\n",
       "      <td>1.000000</td>\n",
       "      <td>1.000000</td>\n",
       "    </tr>\n",
       "    <tr>\n",
       "      <th>25%</th>\n",
       "      <td>1.750000</td>\n",
       "      <td>25.000000</td>\n",
       "    </tr>\n",
       "    <tr>\n",
       "      <th>50%</th>\n",
       "      <td>2.500000</td>\n",
       "      <td>31.000000</td>\n",
       "    </tr>\n",
       "    <tr>\n",
       "      <th>75%</th>\n",
       "      <td>3.250000</td>\n",
       "      <td>36.000000</td>\n",
       "    </tr>\n",
       "    <tr>\n",
       "      <th>max</th>\n",
       "      <td>4.000000</td>\n",
       "      <td>194.000000</td>\n",
       "    </tr>\n",
       "  </tbody>\n",
       "</table>\n",
       "</div>"
      ],
      "text/plain": [
       "         Class Index         tokens\n",
       "count  120000.000000  120000.000000\n",
       "mean        2.500000      31.600675\n",
       "std         1.118039      10.200845\n",
       "min         1.000000       1.000000\n",
       "25%         1.750000      25.000000\n",
       "50%         2.500000      31.000000\n",
       "75%         3.250000      36.000000\n",
       "max         4.000000     194.000000"
      ]
     },
     "execution_count": 10,
     "metadata": {},
     "output_type": "execute_result"
    }
   ],
   "source": [
    "df.describe()"
   ]
  },
  {
   "cell_type": "code",
   "execution_count": 14,
   "metadata": {},
   "outputs": [],
   "source": [
    "\n",
    "df = df[['Class Index', 'Description']]"
   ]
  },
  {
   "cell_type": "code",
   "execution_count": 15,
   "metadata": {},
   "outputs": [
    {
     "data": {
      "text/html": [
       "<div>\n",
       "<style scoped>\n",
       "    .dataframe tbody tr th:only-of-type {\n",
       "        vertical-align: middle;\n",
       "    }\n",
       "\n",
       "    .dataframe tbody tr th {\n",
       "        vertical-align: top;\n",
       "    }\n",
       "\n",
       "    .dataframe thead th {\n",
       "        text-align: right;\n",
       "    }\n",
       "</style>\n",
       "<table border=\"1\" class=\"dataframe\">\n",
       "  <thead>\n",
       "    <tr style=\"text-align: right;\">\n",
       "      <th></th>\n",
       "      <th>Class Index</th>\n",
       "      <th>Description</th>\n",
       "    </tr>\n",
       "  </thead>\n",
       "  <tbody>\n",
       "    <tr>\n",
       "      <th>0</th>\n",
       "      <td>3</td>\n",
       "      <td>Reuters - Short-sellers, Wall Street's dwindli...</td>\n",
       "    </tr>\n",
       "    <tr>\n",
       "      <th>1</th>\n",
       "      <td>3</td>\n",
       "      <td>Reuters - Private investment firm Carlyle Grou...</td>\n",
       "    </tr>\n",
       "    <tr>\n",
       "      <th>2</th>\n",
       "      <td>3</td>\n",
       "      <td>Reuters - Soaring crude prices plus worries\\ab...</td>\n",
       "    </tr>\n",
       "    <tr>\n",
       "      <th>3</th>\n",
       "      <td>3</td>\n",
       "      <td>Reuters - Authorities have halted oil export\\f...</td>\n",
       "    </tr>\n",
       "    <tr>\n",
       "      <th>4</th>\n",
       "      <td>3</td>\n",
       "      <td>AFP - Tearaway world oil prices, toppling reco...</td>\n",
       "    </tr>\n",
       "    <tr>\n",
       "      <th>...</th>\n",
       "      <td>...</td>\n",
       "      <td>...</td>\n",
       "    </tr>\n",
       "    <tr>\n",
       "      <th>119995</th>\n",
       "      <td>1</td>\n",
       "      <td>KARACHI (Reuters) - Pakistani President Perve...</td>\n",
       "    </tr>\n",
       "    <tr>\n",
       "      <th>119996</th>\n",
       "      <td>2</td>\n",
       "      <td>Red Sox general manager Theo Epstein acknowled...</td>\n",
       "    </tr>\n",
       "    <tr>\n",
       "      <th>119997</th>\n",
       "      <td>2</td>\n",
       "      <td>The Miami Dolphins will put their courtship of...</td>\n",
       "    </tr>\n",
       "    <tr>\n",
       "      <th>119998</th>\n",
       "      <td>2</td>\n",
       "      <td>PITTSBURGH at NY GIANTS Time: 1:30 p.m. Line: ...</td>\n",
       "    </tr>\n",
       "    <tr>\n",
       "      <th>119999</th>\n",
       "      <td>2</td>\n",
       "      <td>INDIANAPOLIS -- All-Star Vince Carter was trad...</td>\n",
       "    </tr>\n",
       "  </tbody>\n",
       "</table>\n",
       "<p>120000 rows × 2 columns</p>\n",
       "</div>"
      ],
      "text/plain": [
       "        Class Index                                        Description\n",
       "0                 3  Reuters - Short-sellers, Wall Street's dwindli...\n",
       "1                 3  Reuters - Private investment firm Carlyle Grou...\n",
       "2                 3  Reuters - Soaring crude prices plus worries\\ab...\n",
       "3                 3  Reuters - Authorities have halted oil export\\f...\n",
       "4                 3  AFP - Tearaway world oil prices, toppling reco...\n",
       "...             ...                                                ...\n",
       "119995            1   KARACHI (Reuters) - Pakistani President Perve...\n",
       "119996            2  Red Sox general manager Theo Epstein acknowled...\n",
       "119997            2  The Miami Dolphins will put their courtship of...\n",
       "119998            2  PITTSBURGH at NY GIANTS Time: 1:30 p.m. Line: ...\n",
       "119999            2  INDIANAPOLIS -- All-Star Vince Carter was trad...\n",
       "\n",
       "[120000 rows x 2 columns]"
      ]
     },
     "execution_count": 15,
     "metadata": {},
     "output_type": "execute_result"
    }
   ],
   "source": [
    "df"
   ]
  },
  {
   "cell_type": "code",
   "execution_count": 16,
   "metadata": {},
   "outputs": [],
   "source": [
    "train_df = pd.read_csv('./data/agnews/train.csv')\n",
    "test_df = pd.read_csv('./data/agnews/test.csv')\n",
    "\n",
    "train_df = train_df[['Class Index', 'Description']]\n",
    "test_df = test_df[['Class Index', 'Description']]\n",
    "\n"
   ]
  },
  {
   "cell_type": "code",
   "execution_count": 18,
   "metadata": {},
   "outputs": [],
   "source": [
    "import numpy as np\n",
    "\n",
    "np.savetxt('./data/agnews/train.txt', train_df.values, fmt='%s', delimiter='\\t')\n",
    "np.savetxt('./data/agnews/test.txt', test_df.values, fmt='%s', delimiter='\\t')"
   ]
  },
  {
   "cell_type": "code",
   "execution_count": 27,
   "metadata": {},
   "outputs": [],
   "source": [
    "import pandas as pd\n",
    "import numpy as np"
   ]
  },
  {
   "cell_type": "code",
   "execution_count": 55,
   "metadata": {},
   "outputs": [],
   "source": [
    "kaggle_med = pd.read_csv('./data/original/kaggle_med/train.txt',delimiter='\\t', header=None, names=['class', 'text'])\n",
    "kaggle_med['text'] = kaggle_med['class'].apply(lambda x: x.split(' ',1)[1]) \n",
    "kaggle_med['class'] = kaggle_med['class'].apply(lambda x: x.split(' ',1)[0])"
   ]
  },
  {
   "cell_type": "code",
   "execution_count": 59,
   "metadata": {},
   "outputs": [
    {
     "data": {
      "text/plain": [
       "array(['22', '33', '3', '5', '38', '11', '27', '10', '20', '24', '25',\n",
       "       '39', '21', '23', '29', '12', '35', '14', '16', '26', '2', '7',\n",
       "       '15', '28', '8', '19', '31', '37', '32', '13', '36', '34', '4',\n",
       "       '18', '1', '30', '17', '6', 'and', '9', '6.', '0', '7.'],\n",
       "      dtype=object)"
      ]
     },
     "execution_count": 59,
     "metadata": {},
     "output_type": "execute_result"
    }
   ],
   "source": [
    "kaggle_med['class'].unique()"
   ]
  },
  {
   "cell_type": "code",
   "execution_count": 65,
   "metadata": {},
   "outputs": [
    {
     "data": {
      "text/html": [
       "<div>\n",
       "<style scoped>\n",
       "    .dataframe tbody tr th:only-of-type {\n",
       "        vertical-align: middle;\n",
       "    }\n",
       "\n",
       "    .dataframe tbody tr th {\n",
       "        vertical-align: top;\n",
       "    }\n",
       "\n",
       "    .dataframe thead th {\n",
       "        text-align: right;\n",
       "    }\n",
       "</style>\n",
       "<table border=\"1\" class=\"dataframe\">\n",
       "  <thead>\n",
       "    <tr style=\"text-align: right;\">\n",
       "      <th></th>\n",
       "      <th>class</th>\n",
       "      <th>text</th>\n",
       "    </tr>\n",
       "  </thead>\n",
       "  <tbody>\n",
       "    <tr>\n",
       "      <th>count</th>\n",
       "      <td>4255</td>\n",
       "      <td>4255</td>\n",
       "    </tr>\n",
       "    <tr>\n",
       "      <th>unique</th>\n",
       "      <td>43</td>\n",
       "      <td>2183</td>\n",
       "    </tr>\n",
       "    <tr>\n",
       "      <th>top</th>\n",
       "      <td>38</td>\n",
       "      <td>An example/template for a routine normal male...</td>\n",
       "    </tr>\n",
       "    <tr>\n",
       "      <th>freq</th>\n",
       "      <td>914</td>\n",
       "      <td>12</td>\n",
       "    </tr>\n",
       "  </tbody>\n",
       "</table>\n",
       "</div>"
      ],
      "text/plain": [
       "       class                                               text\n",
       "count   4255                                               4255\n",
       "unique    43                                               2183\n",
       "top       38   An example/template for a routine normal male...\n",
       "freq     914                                                 12"
      ]
     },
     "execution_count": 65,
     "metadata": {},
     "output_type": "execute_result"
    }
   ],
   "source": [
    "kaggle_med.describe()"
   ]
  },
  {
   "cell_type": "code",
   "execution_count": 60,
   "metadata": {},
   "outputs": [
    {
     "data": {
      "text/plain": [
       "38     914\n",
       "5      443\n",
       "3      316\n",
       "27     308\n",
       "15     224\n",
       "33     224\n",
       "22     186\n",
       "14     180\n",
       "24     146\n",
       "35     141\n",
       "39     124\n",
       "10      97\n",
       "11      86\n",
       "23      84\n",
       "16      82\n",
       "26      72\n",
       "12      68\n",
       "21      67\n",
       "29      60\n",
       "25      49\n",
       "28      49\n",
       "32      44\n",
       "31      41\n",
       "7       25\n",
       "6       24\n",
       "8       23\n",
       "20      22\n",
       "30      19\n",
       "13      18\n",
       "36      18\n",
       "2       16\n",
       "4       13\n",
       "18      13\n",
       "34       9\n",
       "9        9\n",
       "19       8\n",
       "37       8\n",
       "17       6\n",
       "1        5\n",
       "and      4\n",
       "0        4\n",
       "6.       3\n",
       "7.       3\n",
       "Name: class, dtype: int64"
      ]
     },
     "execution_count": 60,
     "metadata": {},
     "output_type": "execute_result"
    }
   ],
   "source": [
    "kaggle_med['class'].value_counts()"
   ]
  },
  {
   "cell_type": "code",
   "execution_count": 61,
   "metadata": {},
   "outputs": [
    {
     "data": {
      "text/plain": [
       "2808     Microscopic dissection.\n",
       "3169     Microscopic dissection.\n",
       "3466     Microscopic dissection.\n",
       "Name: text, dtype: object"
      ]
     },
     "execution_count": 61,
     "metadata": {},
     "output_type": "execute_result"
    }
   ],
   "source": [
    "kaggle_med.text.loc[kaggle_med['class'] == '7.']"
   ]
  },
  {
   "cell_type": "code",
   "execution_count": 62,
   "metadata": {},
   "outputs": [
    {
     "data": {
      "text/plain": [
       "1073     Grade 1+ rectocele.\n",
       "1468     Grade 1+ rectocele.\n",
       "3595     Grade 1+ rectocele.\n",
       "Name: text, dtype: object"
      ]
     },
     "execution_count": 62,
     "metadata": {},
     "output_type": "execute_result"
    }
   ],
   "source": [
    "kaggle_med.text.loc[kaggle_med['class'] == '6.']"
   ]
  },
  {
   "cell_type": "code",
   "execution_count": 63,
   "metadata": {},
   "outputs": [
    {
     "data": {
      "text/plain": [
       "1504     Patient having severe sinusitis about two to ...\n",
       "2341     A female for a complete physical and follow u...\n",
       "3360     A 23-year-old white female presents with comp...\n",
       "3558     Mother states he has been wheezing and coughing.\n",
       "Name: text, dtype: object"
      ]
     },
     "execution_count": 63,
     "metadata": {},
     "output_type": "execute_result"
    }
   ],
   "source": [
    "kaggle_med.text.loc[kaggle_med['class'] == '0']"
   ]
  },
  {
   "cell_type": "code",
   "execution_count": 64,
   "metadata": {},
   "outputs": [
    {
     "data": {
      "text/plain": [
       "732     congestive heart failure.\n",
       "3574    congestive heart failure.\n",
       "3792    congestive heart failure.\n",
       "3939    congestive heart failure.\n",
       "Name: text, dtype: object"
      ]
     },
     "execution_count": 64,
     "metadata": {},
     "output_type": "execute_result"
    }
   ],
   "source": [
    "kaggle_med.text.loc[kaggle_med['class'] == 'and']"
   ]
  },
  {
   "cell_type": "code",
   "execution_count": 68,
   "metadata": {},
   "outputs": [],
   "source": [
    "new_df_train = kaggle_med.drop(kaggle_med[(kaggle_med['class'] == 'and') | (kaggle_med['class'] == '6.') | (kaggle_med['class'] == '7.')].index)\n"
   ]
  },
  {
   "cell_type": "code",
   "execution_count": 70,
   "metadata": {},
   "outputs": [
    {
     "data": {
      "text/html": [
       "<div>\n",
       "<style scoped>\n",
       "    .dataframe tbody tr th:only-of-type {\n",
       "        vertical-align: middle;\n",
       "    }\n",
       "\n",
       "    .dataframe tbody tr th {\n",
       "        vertical-align: top;\n",
       "    }\n",
       "\n",
       "    .dataframe thead th {\n",
       "        text-align: right;\n",
       "    }\n",
       "</style>\n",
       "<table border=\"1\" class=\"dataframe\">\n",
       "  <thead>\n",
       "    <tr style=\"text-align: right;\">\n",
       "      <th></th>\n",
       "      <th>class</th>\n",
       "      <th>text</th>\n",
       "    </tr>\n",
       "  </thead>\n",
       "  <tbody>\n",
       "    <tr>\n",
       "      <th>count</th>\n",
       "      <td>4245</td>\n",
       "      <td>4245</td>\n",
       "    </tr>\n",
       "    <tr>\n",
       "      <th>unique</th>\n",
       "      <td>40</td>\n",
       "      <td>2180</td>\n",
       "    </tr>\n",
       "    <tr>\n",
       "      <th>top</th>\n",
       "      <td>38</td>\n",
       "      <td>An example/template for a routine normal male...</td>\n",
       "    </tr>\n",
       "    <tr>\n",
       "      <th>freq</th>\n",
       "      <td>914</td>\n",
       "      <td>12</td>\n",
       "    </tr>\n",
       "  </tbody>\n",
       "</table>\n",
       "</div>"
      ],
      "text/plain": [
       "       class                                               text\n",
       "count   4245                                               4245\n",
       "unique    40                                               2180\n",
       "top       38   An example/template for a routine normal male...\n",
       "freq     914                                                 12"
      ]
     },
     "execution_count": 70,
     "metadata": {},
     "output_type": "execute_result"
    }
   ],
   "source": [
    "new_df_train.describe()"
   ]
  },
  {
   "cell_type": "code",
   "execution_count": 71,
   "metadata": {},
   "outputs": [],
   "source": [
    "np.savetxt('./data/original/kaggle_med/train.txt', new_df_train.values, fmt='%s', delimiter='\\t')"
   ]
  },
  {
   "cell_type": "code",
   "execution_count": 72,
   "metadata": {},
   "outputs": [],
   "source": [
    "kaggle_med = pd.read_csv('./data/original/kaggle_med/test.txt',delimiter='\\t', header=None, names=['class', 'text'])\n",
    "kaggle_med['text'] = kaggle_med['class'].apply(lambda x: x.split(' ',1)[1]) \n",
    "kaggle_med['class'] = kaggle_med['class'].apply(lambda x: x.split(' ',1)[0])"
   ]
  },
  {
   "cell_type": "code",
   "execution_count": 73,
   "metadata": {},
   "outputs": [
    {
     "data": {
      "text/plain": [
       "array(['22', '27', '5', '38', '21', '10', '6', '39', '15', '28', '14',\n",
       "       '25', '12', '35', '23', '30', '26', '3', '29', '1', '33', '32',\n",
       "       '16', '18', '24', '31', '7', '11', '20', '8', '9', '13', '2', '0',\n",
       "       '34'], dtype=object)"
      ]
     },
     "execution_count": 73,
     "metadata": {},
     "output_type": "execute_result"
    }
   ],
   "source": [
    "kaggle_med['class'].unique()"
   ]
  },
  {
   "cell_type": "code",
   "execution_count": 74,
   "metadata": {},
   "outputs": [
    {
     "data": {
      "text/html": [
       "<div>\n",
       "<style scoped>\n",
       "    .dataframe tbody tr th:only-of-type {\n",
       "        vertical-align: middle;\n",
       "    }\n",
       "\n",
       "    .dataframe tbody tr th {\n",
       "        vertical-align: top;\n",
       "    }\n",
       "\n",
       "    .dataframe thead th {\n",
       "        text-align: right;\n",
       "    }\n",
       "</style>\n",
       "<table border=\"1\" class=\"dataframe\">\n",
       "  <thead>\n",
       "    <tr style=\"text-align: right;\">\n",
       "      <th></th>\n",
       "      <th>class</th>\n",
       "      <th>text</th>\n",
       "    </tr>\n",
       "  </thead>\n",
       "  <tbody>\n",
       "    <tr>\n",
       "      <th>count</th>\n",
       "      <td>472</td>\n",
       "      <td>472</td>\n",
       "    </tr>\n",
       "    <tr>\n",
       "      <th>unique</th>\n",
       "      <td>35</td>\n",
       "      <td>440</td>\n",
       "    </tr>\n",
       "    <tr>\n",
       "      <th>top</th>\n",
       "      <td>38</td>\n",
       "      <td>The patient is an 11-month-old with a diagnos...</td>\n",
       "    </tr>\n",
       "    <tr>\n",
       "      <th>freq</th>\n",
       "      <td>122</td>\n",
       "      <td>3</td>\n",
       "    </tr>\n",
       "  </tbody>\n",
       "</table>\n",
       "</div>"
      ],
      "text/plain": [
       "       class                                               text\n",
       "count    472                                                472\n",
       "unique    35                                                440\n",
       "top       38   The patient is an 11-month-old with a diagnos...\n",
       "freq     122                                                  3"
      ]
     },
     "execution_count": 74,
     "metadata": {},
     "output_type": "execute_result"
    }
   ],
   "source": [
    "kaggle_med.describe()"
   ]
  },
  {
   "cell_type": "code",
   "execution_count": 77,
   "metadata": {},
   "outputs": [],
   "source": [
    "df = pd.read_csv('./data/original/kaggle_med/train.txt',delimiter='\\t', header=None, names=['class', 'text'])"
   ]
  },
  {
   "cell_type": "code",
   "execution_count": 78,
   "metadata": {},
   "outputs": [
    {
     "data": {
      "text/html": [
       "<div>\n",
       "<style scoped>\n",
       "    .dataframe tbody tr th:only-of-type {\n",
       "        vertical-align: middle;\n",
       "    }\n",
       "\n",
       "    .dataframe tbody tr th {\n",
       "        vertical-align: top;\n",
       "    }\n",
       "\n",
       "    .dataframe thead th {\n",
       "        text-align: right;\n",
       "    }\n",
       "</style>\n",
       "<table border=\"1\" class=\"dataframe\">\n",
       "  <thead>\n",
       "    <tr style=\"text-align: right;\">\n",
       "      <th></th>\n",
       "      <th>class</th>\n",
       "      <th>text</th>\n",
       "    </tr>\n",
       "  </thead>\n",
       "  <tbody>\n",
       "    <tr>\n",
       "      <th>0</th>\n",
       "      <td>22</td>\n",
       "      <td>Occipital craniotomy, removal of large tumor ...</td>\n",
       "    </tr>\n",
       "    <tr>\n",
       "      <th>1</th>\n",
       "      <td>33</td>\n",
       "      <td>CT of Lumbar Spine without Contrast.  Patient...</td>\n",
       "    </tr>\n",
       "    <tr>\n",
       "      <th>2</th>\n",
       "      <td>33</td>\n",
       "      <td>A 68-year-old white male with recently diagno...</td>\n",
       "    </tr>\n",
       "    <tr>\n",
       "      <th>3</th>\n",
       "      <td>22</td>\n",
       "      <td>Falls at home.  Anxiety and depression.  The ...</td>\n",
       "    </tr>\n",
       "    <tr>\n",
       "      <th>4</th>\n",
       "      <td>3</td>\n",
       "      <td>Nonischemic cardiomyopathy, branch vessel cor...</td>\n",
       "    </tr>\n",
       "    <tr>\n",
       "      <th>...</th>\n",
       "      <td>...</td>\n",
       "      <td>...</td>\n",
       "    </tr>\n",
       "    <tr>\n",
       "      <th>4240</th>\n",
       "      <td>14</td>\n",
       "      <td>Esophagogastroduodenoscopy with pseudo and es...</td>\n",
       "    </tr>\n",
       "    <tr>\n",
       "      <th>4241</th>\n",
       "      <td>38</td>\n",
       "      <td>Belly button piercing for insertion of belly ...</td>\n",
       "    </tr>\n",
       "    <tr>\n",
       "      <th>4242</th>\n",
       "      <td>23</td>\n",
       "      <td>Phenol neurolysis left musculocutaneous nerve...</td>\n",
       "    </tr>\n",
       "    <tr>\n",
       "      <th>4243</th>\n",
       "      <td>12</td>\n",
       "      <td>Patient went out partying last night and dran...</td>\n",
       "    </tr>\n",
       "    <tr>\n",
       "      <th>4244</th>\n",
       "      <td>23</td>\n",
       "      <td>Anterior cervical discectomy and removal of h...</td>\n",
       "    </tr>\n",
       "  </tbody>\n",
       "</table>\n",
       "<p>4245 rows × 2 columns</p>\n",
       "</div>"
      ],
      "text/plain": [
       "      class                                               text\n",
       "0        22   Occipital craniotomy, removal of large tumor ...\n",
       "1        33   CT of Lumbar Spine without Contrast.  Patient...\n",
       "2        33   A 68-year-old white male with recently diagno...\n",
       "3        22   Falls at home.  Anxiety and depression.  The ...\n",
       "4         3   Nonischemic cardiomyopathy, branch vessel cor...\n",
       "...     ...                                                ...\n",
       "4240     14   Esophagogastroduodenoscopy with pseudo and es...\n",
       "4241     38   Belly button piercing for insertion of belly ...\n",
       "4242     23   Phenol neurolysis left musculocutaneous nerve...\n",
       "4243     12   Patient went out partying last night and dran...\n",
       "4244     23   Anterior cervical discectomy and removal of h...\n",
       "\n",
       "[4245 rows x 2 columns]"
      ]
     },
     "execution_count": 78,
     "metadata": {},
     "output_type": "execute_result"
    }
   ],
   "source": [
    "df"
   ]
  },
  {
   "cell_type": "code",
   "execution_count": 84,
   "metadata": {},
   "outputs": [
    {
     "data": {
      "text/plain": [
       "31"
      ]
     },
     "execution_count": 84,
     "metadata": {},
     "output_type": "execute_result"
    }
   ],
   "source": [
    "duplicates = df[df.duplicated()]\n",
    "len(duplicates)"
   ]
  },
  {
   "cell_type": "code",
   "execution_count": 85,
   "metadata": {},
   "outputs": [
    {
     "name": "stdout",
     "output_type": "stream",
     "text": [
      "      class                                               text\n",
      "811      21   Noncontrast CT abdomen and pelvis per renal s...\n",
      "1075     25   An example/template for a routine normal male...\n",
      "1184     25   Sample normal ear, nose, mouth, and throat exam.\n",
      "1535     15   An example/template for a routine normal fema...\n",
      "1559     35                    Sample progress note - Gen Med.\n",
      "1654      5   Occupational medicine consult with questions-...\n",
      "1690     35                    Sample progress note - Gen Med.\n",
      "1699     33                    MRI left knee without contrast.\n",
      "1967     25   Normal review of systems template.  Negative ...\n",
      "2304     15                    Sample progress note - Gen Med.\n",
      "2696      3                  Sample of Pulmonary Function Test\n",
      "2718     15   An example/template for a routine normal male...\n",
      "2727      5   An example/template for a routine normal male...\n",
      "2799     11   Sample normal ear, nose, mouth, and throat exam.\n",
      "2850     18   Occupational medicine consult with questions-...\n",
      "2889     35                    Sample progress note - Gen Med.\n",
      "3127      5   Sample normal ear, nose, mouth, and throat exam.\n",
      "3159     15   Normal review of systems template.  Negative ...\n",
      "3379     15   Sample normal ear, nose, mouth, and throat exam.\n",
      "3527      2           Consult for laparoscopic gastric bypass.\n",
      "3556      5   An example/template for a routine normal male...\n",
      "3618     25   An example/template for a routine normal male...\n",
      "3644     25   An example/template for a routine normal male...\n",
      "3738     15                    Sample progress note - Gen Med.\n",
      "3844      5   An example/template for a routine normal fema...\n",
      "3859      5   An example/template for a routine normal male...\n",
      "3952     27                       CT REPORT - Soft Tissue Neck\n",
      "3963      5   Occupational medicine consult with questions-...\n",
      "4011     15   An example/template for a routine normal male...\n",
      "4025     15   An example/template for a routine normal male...\n",
      "4029     25   An example/template for a routine normal fema...\n"
     ]
    }
   ],
   "source": [
    "print(duplicates)"
   ]
  },
  {
   "cell_type": "code",
   "execution_count": 86,
   "metadata": {},
   "outputs": [
    {
     "data": {
      "text/plain": [
       "2065"
      ]
     },
     "execution_count": 86,
     "metadata": {},
     "output_type": "execute_result"
    }
   ],
   "source": [
    "duplicates = df[df['text'].duplicated()]\n",
    "len(duplicates)"
   ]
  },
  {
   "cell_type": "code",
   "execution_count": null,
   "metadata": {},
   "outputs": [],
   "source": [
    "for i in range(len(duplicates)):\n",
    "    print(duplicates['text'].iloc[i])\n",
    "    print('===========================================')"
   ]
  },
  {
   "cell_type": "code",
   "execution_count": null,
   "metadata": {},
   "outputs": [],
   "source": [
    "duplicates = df.groupby('text').apply(lambda x: pd.Series({\n",
    "    'class': list(x['class']),\n",
    "    'count': len(x)\n",
    "})).reset_index()\n",
    "duplicates = duplicates[duplicates.duplicated(subset='class')]\n",
    "for i in range(len(duplicates)):\n",
    "    count = duplicates['count'].iloc[i]\n",
    "    if count > 2:\n",
    "        print('text: ',duplicates['text'].iloc[i])\n",
    "        print('class: ',duplicates['class'].iloc[i])\n",
    "        print('count: ',duplicates['count'].iloc[i])\n",
    "        print('===========================================')"
   ]
  },
  {
   "cell_type": "code",
   "execution_count": 50,
   "metadata": {},
   "outputs": [
    {
     "data": {
      "text/plain": [
       "0"
      ]
     },
     "execution_count": 50,
     "metadata": {},
     "output_type": "execute_result"
    }
   ],
   "source": [
    "df = pd.read_csv('./data/original/cardio/train.txt',delimiter='\\t', header=None, names=['class', 'text'])\n",
    "duplicates = df[df.duplicated()]\n",
    "len(duplicates)"
   ]
  },
  {
   "attachments": {},
   "cell_type": "markdown",
   "metadata": {},
   "source": [
    "## new session\n",
    "### augmentation"
   ]
  },
  {
   "cell_type": "code",
   "execution_count": 1,
   "metadata": {},
   "outputs": [
    {
     "name": "stderr",
     "output_type": "stream",
     "text": [
      "2023-02-25 17:44:14.549474: I tensorflow/core/platform/cpu_feature_guard.cc:193] This TensorFlow binary is optimized with oneAPI Deep Neural Network Library (oneDNN) to use the following CPU instructions in performance-critical operations:  AVX2 FMA\n",
      "To enable them in other operations, rebuild TensorFlow with the appropriate compiler flags.\n",
      "2023-02-25 17:44:14.691408: E tensorflow/stream_executor/cuda/cuda_blas.cc:2981] Unable to register cuBLAS factory: Attempting to register factory for plugin cuBLAS when one has already been registered\n",
      "2023-02-25 17:44:15.118688: W tensorflow/stream_executor/platform/default/dso_loader.cc:64] Could not load dynamic library 'libnvinfer.so.7'; dlerror: libnvinfer.so.7: cannot open shared object file: No such file or directory\n",
      "2023-02-25 17:44:15.118735: W tensorflow/stream_executor/platform/default/dso_loader.cc:64] Could not load dynamic library 'libnvinfer_plugin.so.7'; dlerror: libnvinfer_plugin.so.7: cannot open shared object file: No such file or directory\n",
      "2023-02-25 17:44:15.118740: W tensorflow/compiler/tf2tensorrt/utils/py_utils.cc:38] TF-TRT Warning: Cannot dlopen some TensorRT libraries. If you would like to use Nvidia GPU with TensorRT, please make sure the missing libraries mentioned above are installed properly.\n"
     ]
    }
   ],
   "source": [
    "import numpy as np\n",
    "import pandas as pd\n",
    "import textattack\n",
    "from functions import *"
   ]
  },
  {
   "cell_type": "code",
   "execution_count": 38,
   "metadata": {},
   "outputs": [],
   "source": [
    "# Define the input paths for the datasets\n",
    "dict_datasets = {\n",
    "    'agnews': './data/original/agnews/train.txt',\n",
    "    'cardio': './data/original/cardio/train.txt',\n",
    "    'cr': './data/original/cr/train.txt',\n",
    "    'pc': './data/original/pc/train.txt',\n",
    "    'pc_clean': './data/original/pc/train_clean.txt',\n",
    "    'sst2': './data/original/sst2/train.txt',\n",
    "    'subj': './data/original/subj/train.txt',\n",
    "    'trec': './data/original/trec/train.txt'\n",
    "}\n",
    "\n",
    "# Define the augmentation methods and their names\n",
    "dict_methods = {\n",
    "    'aeda': 'aeda_augmenter',\n",
    "    'backtranslation': 'backtranslation_augmenter',\n",
    "    'checklist': 'checklist_augmenter',\n",
    "    'clare': 'clare_augmenter',\n",
    "    'eda': 'eda_augmenter',\n",
    "    'embedding': 'embedding_augmenter',\n",
    "    'deletion': 'deletion_augmenter',\n",
    "    'wordnet': 'wordnet_augmenter'\n",
    "}\n"
   ]
  },
  {
   "cell_type": "code",
   "execution_count": 42,
   "metadata": {},
   "outputs": [],
   "source": [
    "# import snoop\n",
    "# @snoop(depth=2)\n",
    "def aug_samples(dataset_name, method_names, fraction, pct_words_to_swap, transformations_per_example, include_original):\n",
    "    data = load_data(dict_datasets[dataset_name])\n",
    "    print(f'Loaded {len(data)} rows of data from {dict_datasets[dataset_name]}')\n",
    "    #data = data.sample(frac=fraction)\n",
    "    #print(f'Sampled {len(data)} rows with fraction={fraction}')\n",
    "    for method in method_names:\n",
    "        if method not in dict_methods:\n",
    "            raise ValueError(f\"Method '{method}' is not supported\")\n",
    "        augmented_data = augment_text(\n",
    "            data,\n",
    "            dict_methods[method],\n",
    "            fraction=fraction,\n",
    "            pct_words_to_swap=pct_words_to_swap,\n",
    "            transformations_per_example=transformations_per_example,\n",
    "            label_column='class',\n",
    "            target_column='text',\n",
    "            include_original=include_original\n",
    "        )\n",
    "        augmented_data = augmented_data[['class', 'text']]\n",
    "        np.savetxt(\n",
    "            f'./data/augmented/{dataset_name}/{fraction}_{method}_{transformations_per_example}.txt',\n",
    "            augmented_data.values,\n",
    "            fmt='%s',\n",
    "            delimiter='\\t'\n",
    "        )\n",
    "        print(f'number of augmented samples: {len(augmented_data)}')"
   ]
  },
  {
   "cell_type": "code",
   "execution_count": 49,
   "metadata": {},
   "outputs": [
    {
     "name": "stdout",
     "output_type": "stream",
     "text": [
      "Loaded 120000 rows of data from ./data/original/agnews/train.txt\n"
     ]
    },
    {
     "name": "stderr",
     "output_type": "stream",
     "text": [
      "[nltk_data] Downloading package omw-1.4 to /home/peyman/nltk_data...\n",
      "[nltk_data]   Package omw-1.4 is already up-to-date!\n"
     ]
    },
    {
     "name": "stdout",
     "output_type": "stream",
     "text": [
      "number of augmented samples: 240\n"
     ]
    }
   ],
   "source": [
    "aug_samples('agnews', ['eda'], 0.001, 0.5, 2, False)"
   ]
  },
  {
   "cell_type": "code",
   "execution_count": 12,
   "metadata": {},
   "outputs": [],
   "source": [
    "def aug_samples(dataset_name, method_names, fraction, pct_words_to_swap, transformations_per_example, include_original):\n",
    "    data = load_data(dict_datasets[dataset_name])\n",
    "    methods = method_names\n",
    "    for method in methods:\n",
    "        augmented_data = augment_text( data, method, fraction=fraction, pct_words_to_swap=pct_words_to_swap, transformations_per_example=transformations_per_example,\n",
    "                                                            label_column='class', target_column='text', include_original=include_original)\n",
    "        augmented_data = augmented_data[['class','text']]\n",
    "        np.savetxt(f'./data/augmented/{dataset_name}/{fraction}_{method}_{transformations_per_example}.txt', augmented_data.values, fmt='%s', delimiter='\\t')"
   ]
  },
  {
   "cell_type": "code",
   "execution_count": 13,
   "metadata": {},
   "outputs": [],
   "source": [
    "aug_samples('pc', ['checklist_augmenter'], 0.001, 0.5, 2, True)"
   ]
  },
  {
   "attachments": {},
   "cell_type": "markdown",
   "metadata": {},
   "source": [
    "# test"
   ]
  },
  {
   "cell_type": "code",
   "execution_count": 34,
   "metadata": {},
   "outputs": [],
   "source": [
    "data = load_data(dict_datasets['pc'])\n",
    "df = data.copy( )"
   ]
  },
  {
   "cell_type": "code",
   "execution_count": 35,
   "metadata": {},
   "outputs": [],
   "source": [
    "df= df[~(df['text'].isin(['','none','nan','null','NaN','NULL','Null','None','NONE']))].reset_index(drop=True)"
   ]
  },
  {
   "cell_type": "code",
   "execution_count": 37,
   "metadata": {},
   "outputs": [],
   "source": [
    "np.savetxt('./data/original/pc/train_clean.txt', df.values, fmt='%s', delimiter='\\t')"
   ]
  },
  {
   "cell_type": "code",
   "execution_count": 41,
   "metadata": {},
   "outputs": [
    {
     "name": "stdout",
     "output_type": "stream",
     "text": [
      "Loaded 39296 rows of data from ./data/original/pc/train_clean.txt\n",
      "number of augmented samples: 83\n"
     ]
    }
   ],
   "source": [
    "aug_samples('pc_clean', ['checklist'], 0.001, 0.5, 2, True)"
   ]
  },
  {
   "cell_type": "code",
   "execution_count": 4,
   "metadata": {},
   "outputs": [],
   "source": [
    "df = pd.read_csv('./data/original/yelp/yelp.csv')\n",
    "df = df[['stars', 'text']]"
   ]
  },
  {
   "cell_type": "code",
   "execution_count": 19,
   "metadata": {},
   "outputs": [],
   "source": [
    "from sklearn.model_selection import train_test_split\n",
    "import re\n",
    "train, test = train_test_split(df, test_size=0.1, random_state=42)\n",
    "train.to_csv('./data/original/yelp/train.csv', index=False)\n",
    "test.to_csv('./data/original/yelp/test.csv', index=False)\n",
    "# remove newlines\n",
    "test['text'] = test['text'].apply(lambda x: re.sub(r'\\n+', '', x))\n",
    "train['text'] = train['text'].apply(lambda x: re.sub(r'\\n+', '', x))\n",
    "\n",
    "np.savetxt('./data/original/yelp/train.txt', train.values, fmt='%s', delimiter='\\t')\n",
    "np.savetxt('./data/original/yelp/test.txt', test.values, fmt='%s', delimiter='\\t')"
   ]
  },
  {
   "cell_type": "code",
   "execution_count": 20,
   "metadata": {},
   "outputs": [
    {
     "data": {
      "text/html": [
       "<div>\n",
       "<style scoped>\n",
       "    .dataframe tbody tr th:only-of-type {\n",
       "        vertical-align: middle;\n",
       "    }\n",
       "\n",
       "    .dataframe tbody tr th {\n",
       "        vertical-align: top;\n",
       "    }\n",
       "\n",
       "    .dataframe thead th {\n",
       "        text-align: right;\n",
       "    }\n",
       "</style>\n",
       "<table border=\"1\" class=\"dataframe\">\n",
       "  <thead>\n",
       "    <tr style=\"text-align: right;\">\n",
       "      <th></th>\n",
       "      <th>class</th>\n",
       "      <th>text</th>\n",
       "    </tr>\n",
       "  </thead>\n",
       "  <tbody>\n",
       "    <tr>\n",
       "      <th>0</th>\n",
       "      <td>5</td>\n",
       "      <td>One bite and I was transported back to the cro...</td>\n",
       "    </tr>\n",
       "    <tr>\n",
       "      <th>1</th>\n",
       "      <td>3</td>\n",
       "      <td>This place was good, just not as good as I had...</td>\n",
       "    </tr>\n",
       "    <tr>\n",
       "      <th>2</th>\n",
       "      <td>5</td>\n",
       "      <td>Yum best donuts in Phoenix.</td>\n",
       "    </tr>\n",
       "    <tr>\n",
       "      <th>3</th>\n",
       "      <td>4</td>\n",
       "      <td>When I found out I was going to Scottsdale for...</td>\n",
       "    </tr>\n",
       "    <tr>\n",
       "      <th>4</th>\n",
       "      <td>4</td>\n",
       "      <td>We arrived at the store several months ago to ...</td>\n",
       "    </tr>\n",
       "    <tr>\n",
       "      <th>...</th>\n",
       "      <td>...</td>\n",
       "      <td>...</td>\n",
       "    </tr>\n",
       "    <tr>\n",
       "      <th>8995</th>\n",
       "      <td>4</td>\n",
       "      <td>Very relaxed atmosphere and employees are supe...</td>\n",
       "    </tr>\n",
       "    <tr>\n",
       "      <th>8996</th>\n",
       "      <td>3</td>\n",
       "      <td>07/25/11I have a new crush... and it's Christo...</td>\n",
       "    </tr>\n",
       "    <tr>\n",
       "      <th>8997</th>\n",
       "      <td>4</td>\n",
       "      <td>I've been frequenting the Dollar store for the...</td>\n",
       "    </tr>\n",
       "    <tr>\n",
       "      <th>8998</th>\n",
       "      <td>5</td>\n",
       "      <td>I love the girls there. I get my eyebrows done...</td>\n",
       "    </tr>\n",
       "    <tr>\n",
       "      <th>8999</th>\n",
       "      <td>5</td>\n",
       "      <td>Scale of 1-10 (multiple visits):10 Food9 Servi...</td>\n",
       "    </tr>\n",
       "  </tbody>\n",
       "</table>\n",
       "<p>9000 rows × 2 columns</p>\n",
       "</div>"
      ],
      "text/plain": [
       "      class                                               text\n",
       "0         5  One bite and I was transported back to the cro...\n",
       "1         3  This place was good, just not as good as I had...\n",
       "2         5                        Yum best donuts in Phoenix.\n",
       "3         4  When I found out I was going to Scottsdale for...\n",
       "4         4  We arrived at the store several months ago to ...\n",
       "...     ...                                                ...\n",
       "8995      4  Very relaxed atmosphere and employees are supe...\n",
       "8996      3  07/25/11I have a new crush... and it's Christo...\n",
       "8997      4  I've been frequenting the Dollar store for the...\n",
       "8998      5  I love the girls there. I get my eyebrows done...\n",
       "8999      5  Scale of 1-10 (multiple visits):10 Food9 Servi...\n",
       "\n",
       "[9000 rows x 2 columns]"
      ]
     },
     "execution_count": 20,
     "metadata": {},
     "output_type": "execute_result"
    }
   ],
   "source": [
    "pd.read_csv('./data/original/yelp/train.txt',delimiter='\\t', header=None, names=['class', 'text'])"
   ]
  },
  {
   "cell_type": "code",
   "execution_count": null,
   "metadata": {},
   "outputs": [],
   "source": []
  }
 ],
 "metadata": {
  "kernelspec": {
   "display_name": "test",
   "language": "python",
   "name": "python3"
  },
  "language_info": {
   "codemirror_mode": {
    "name": "ipython",
    "version": 3
   },
   "file_extension": ".py",
   "mimetype": "text/x-python",
   "name": "python",
   "nbconvert_exporter": "python",
   "pygments_lexer": "ipython3",
   "version": "3.8.13"
  },
  "orig_nbformat": 4,
  "vscode": {
   "interpreter": {
    "hash": "105d983fd7af724b4799aa016a3246070456ed2a0f153d4c18e29a0780e65f60"
   }
  }
 },
 "nbformat": 4,
 "nbformat_minor": 2
}
