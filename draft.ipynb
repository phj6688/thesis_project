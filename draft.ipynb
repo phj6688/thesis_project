{
 "cells": [
  {
   "cell_type": "code",
   "execution_count": 3,
   "metadata": {},
   "outputs": [],
   "source": [
    "import pandas as pd"
   ]
  },
  {
   "cell_type": "code",
   "execution_count": null,
   "metadata": {},
   "outputs": [],
   "source": [
    "dataset_names = ['cr', 'kaggle_med', 'trec', 'sst2', 'subj', 'yelp', 'pc']\n",
    "# method_names = ['aeda', 'checklist', 'eda', 'wordnet', 'charswap', 'deletion', 'embedding', 'clare', 'backtranslation']\n",
    "method_names = ['eda']\n",
    "example_numbers = [1, 2, 4]\n",
    "path_augmented = 'data/augmented/'\n",
    "path_original = 'data/original/'\n",
    "\n",
    "for dataset_name in dataset_names:\n",
    "    for method_name in method_names:\n",
    "        for number in example_numbers:\n",
    "            try:\n",
    "                path_to_file_augmented = f'{path_augmented}{dataset_name}/{method_name}/meth_{method_name}_pctwts_0.5_example_{number}.csv'\n",
    "                path_to_file_original = f'{path_original}{dataset_name}/train.csv'\n",
    "                df_aug = pd.read_csv(path_to_file_augmented)\n",
    "                df_ori = pd.read_csv(path_to_file_original)\n",
    "                len_df_aug = len(df_aug)\n",
    "                len_df_ori = len(df_ori)\n",
    "                len_should_be = len_df_ori * (number+1)\n",
    "                if len_df_aug != len_should_be:\n",
    "                    print(f'dataset name: {dataset_name} \\n len of original: {len_df_ori} \\n')\n",
    "                    print(f'method name: {method_name} \\n number of examples: {number}')\n",
    "                    print (f'the number of rows should be {len_should_be} \\n the number of rows is {len_df_aug}')\n",
    "                    print('----------------------------------') \n",
    "            except:\n",
    "                pass"
   ]
  },
  {
   "cell_type": "code",
   "execution_count": 34,
   "metadata": {},
   "outputs": [],
   "source": [
    "path = 'data/original/agnews/train.csv'\n",
    "df = pd.read_csv(path)\n",
    "df = df[['text', 'class']]\n",
    "df.to_csv('data/original/agnews/train_temp.csv', index=False)"
   ]
  },
  {
   "cell_type": "code",
   "execution_count": null,
   "metadata": {},
   "outputs": [],
   "source": []
  }
 ],
 "metadata": {
  "kernelspec": {
   "display_name": "base",
   "language": "python",
   "name": "python3"
  },
  "language_info": {
   "codemirror_mode": {
    "name": "ipython",
    "version": 3
   },
   "file_extension": ".py",
   "mimetype": "text/x-python",
   "name": "python",
   "nbconvert_exporter": "python",
   "pygments_lexer": "ipython3",
   "version": "3.8.10"
  },
  "orig_nbformat": 4
 },
 "nbformat": 4,
 "nbformat_minor": 2
}
